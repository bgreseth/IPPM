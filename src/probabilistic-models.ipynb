{
 "cells": [
  {
   "cell_type": "markdown",
   "metadata": {},
   "source": [
    "# Probabilistic Models"
   ]
  },
  {
   "cell_type": "markdown",
   "metadata": {},
   "source": [
    "### Exercise: Stocking a vending machine\n",
    "We simulate 1000 weeks worth of demand for beverages by drawing from the Poisson distribution and storing the result in a vector of length 1000. Notice that on line 4 we create the vector that will hold weekly demand values. In R, you cannot index into a vector unless the vector already exists."
   ]
  },
  {
   "cell_type": "code",
   "execution_count": 8,
   "metadata": {},
   "outputs": [],
   "source": [
    "## simulate 1000 weeks of demand from the vending machine\n",
    "\n",
    "n <- 1000            # number of replications\n",
    "demand <- numeric(n) # create a vector to hold the weekly demand\n",
    "\n",
    "for (i in 1:n) {\n",
    "    demand[i] <- rpois(1, 168)\n",
    "}"
   ]
  },
  {
   "cell_type": "markdown",
   "metadata": {},
   "source": [
    "We can estimate the probability of a stock-out by summing a vector of TRUE/FALSE values and then dividing by $n$. Here, we are using the fact that TRUE equates to one and FALSE equates to zero."
   ]
  },
  {
   "cell_type": "code",
   "execution_count": 9,
   "metadata": {},
   "outputs": [
    {
     "data": {
      "text/html": [
       "0.191"
      ],
      "text/latex": [
       "0.191"
      ],
      "text/markdown": [
       "0.191"
      ],
      "text/plain": [
       "[1] 0.191"
      ]
     },
     "metadata": {},
     "output_type": "display_data"
    }
   ],
   "source": [
    "## estimated probability of a stock-out\n",
    "sum(demand >= 180) / n"
   ]
  },
  {
   "cell_type": "markdown",
   "metadata": {},
   "source": [
    "To estimate the average number of beverages remaining at the end of a week, we want to subtract average sales from 180, but we cannot sell more that 180 beverages. One of handling this is to simply truncate demand at 180. In general, putting some thought into naming variables will make your code easier to understand."
   ]
  },
  {
   "cell_type": "code",
   "execution_count": 15,
   "metadata": {},
   "outputs": [
    {
     "data": {
      "text/html": [
       "11.451"
      ],
      "text/latex": [
       "11.451"
      ],
      "text/markdown": [
       "11.451"
      ],
      "text/plain": [
       "[1] 11.451"
      ]
     },
     "metadata": {},
     "output_type": "display_data"
    }
   ],
   "source": [
    "## estimate of number of beverages remaining at end of week\n",
    "sales <- ifelse(sales > 180, 180, demand)\n",
    "180 - mean(sales)"
   ]
  },
  {
   "cell_type": "code",
   "execution_count": 11,
   "metadata": {},
   "outputs": [
    {
     "data": {
      "text/html": [
       "0.937"
      ],
      "text/latex": [
       "0.937"
      ],
      "text/markdown": [
       "0.937"
      ],
      "text/plain": [
       "[1] 0.937"
      ]
     },
     "metadata": {},
     "output_type": "display_data"
    }
   ],
   "source": [
    "## estimate of probability that 150 or more beverages will be sold\n",
    "sum(demand >= 150) / n"
   ]
  },
  {
   "cell_type": "markdown",
   "metadata": {},
   "source": [
    "### Exercise: Car dealership"
   ]
  },
  {
   "cell_type": "markdown",
   "metadata": {},
   "source": [
    "We simulate the number of hailstorms in June 1000 times by using the rpois() function to draw from the Poisson distribution and storing the values in a vector of length 1000."
   ]
  },
  {
   "cell_type": "code",
   "execution_count": 26,
   "metadata": {},
   "outputs": [],
   "source": [
    "## simulate number of hailstorms in June 1000 times\n",
    "\n",
    "n <- 1000                   # number of replications\n",
    "hailstorms <- numeric(n)    # create a vector to hold the June hailstorm values\n",
    "\n",
    "for (i in 1:n) {\n",
    "    hailstorms[i] <- rpois(1, 4)\n",
    "}"
   ]
  },
  {
   "cell_type": "markdown",
   "metadata": {},
   "source": [
    "We are able to estimate the probability that there are exactly 5 hailstorms in June by summing a vector of TRUE/FALSE values, where TRUE equals one and FALSE equals zero, and then dividing by $n$."
   ]
  },
  {
   "cell_type": "code",
   "execution_count": 27,
   "metadata": {},
   "outputs": [
    {
     "data": {
      "text/html": [
       "0.157"
      ],
      "text/latex": [
       "0.157"
      ],
      "text/markdown": [
       "0.157"
      ],
      "text/plain": [
       "[1] 0.157"
      ]
     },
     "metadata": {},
     "output_type": "display_data"
    }
   ],
   "source": [
    "## estimate probability of exactly 5 hailstorms\n",
    "sum(hailstorms == 5) / n"
   ]
  },
  {
   "cell_type": "code",
   "execution_count": 28,
   "metadata": {},
   "outputs": [],
   "source": [
    "## simulate number of dents in a car after a hailstorm 1000 times\n",
    "n <- 1000\n",
    "dents <- numeric(n)\n",
    "\n",
    "for (i in 1:n) {\n",
    "    dents[i] <- rpois(1, 5)\n",
    "}"
   ]
  },
  {
   "cell_type": "markdown",
   "metadata": {},
   "source": [
    "To find the probability of there being two or more dents in a car after a hailstorm, we estimate the probability of having zero dents and the probability having one dent and then subtract those values from 1."
   ]
  },
  {
   "cell_type": "code",
   "execution_count": 29,
   "metadata": {},
   "outputs": [
    {
     "data": {
      "text/html": [
       "0.963"
      ],
      "text/latex": [
       "0.963"
      ],
      "text/markdown": [
       "0.963"
      ],
      "text/plain": [
       "[1] 0.963"
      ]
     },
     "metadata": {},
     "output_type": "display_data"
    }
   ],
   "source": [
    "## estimate probability of 2 or more dents\n",
    "p0 <- sum(dents == 0) / n # probability of 0 dents \n",
    "p1 <- sum(dents == 1) / n # probability of 1 dent\n",
    "1 - p0 - p1"
   ]
  },
  {
   "cell_type": "markdown",
   "metadata": {},
   "source": [
    "### Exercise: A mining operation"
   ]
  },
  {
   "cell_type": "markdown",
   "metadata": {},
   "source": [
    "The number of scoops in an hour is distributed Poisson, so we are able to simulate the number of scoops in an hour 1000 times using the rpois() function, and then store those values in a vector of length 1000. To estimate the probability that the time between consecutive trips is greater than one hour, we sum a vector of TRUE/FALSE values, where TRUE equates to one and FALSE equates to zero, and then divide by $n$. This shows us the ratio of simulated scoop values that are less than 10."
   ]
  },
  {
   "cell_type": "code",
   "execution_count": 4,
   "metadata": {},
   "outputs": [
    {
     "data": {
      "text/html": [
       "0.832"
      ],
      "text/latex": [
       "0.832"
      ],
      "text/markdown": [
       "0.832"
      ],
      "text/plain": [
       "[1] 0.832"
      ]
     },
     "metadata": {},
     "output_type": "display_data"
    }
   ],
   "source": [
    "## simulate number of scoops in an hour 1000 times\n",
    "n <- 1000\n",
    "scoops <- numeric(n)\n",
    "\n",
    "for (i in 1:n) {\n",
    "    scoops[i] <- rpois(1, 7)\n",
    "}\n",
    "\n",
    "## estimate probability that the time between trips > 1hr\n",
    "sum(scoops < 10)/n"
   ]
  },
  {
   "cell_type": "markdown",
   "metadata": {},
   "source": [
    "We simulate the time between scoops (in muntes) 1000 times by drawing from the Exponential distribution, using the rexp() function and a rate of 7/60 scoops per minute. To estimate the probability that the next scoop is ready within 5 minutes, we sum a vector of TRUE/FALSE values, where TRUE equates to one and FALSE equates to zero, and then divide by $n$. This shows us the ratio of simulated times that are less than or equal to 5 minutes."
   ]
  },
  {
   "cell_type": "code",
   "execution_count": 11,
   "metadata": {},
   "outputs": [
    {
     "data": {
      "text/html": [
       "0.435"
      ],
      "text/latex": [
       "0.435"
      ],
      "text/markdown": [
       "0.435"
      ],
      "text/plain": [
       "[1] 0.435"
      ]
     },
     "metadata": {},
     "output_type": "display_data"
    }
   ],
   "source": [
    "## simulate time betwwen scoops 1000 times\n",
    "n <- 1000\n",
    "rate <- 7/60      # number of scoops per minute\n",
    "minutes <- numeric(n)\n",
    "\n",
    "for (i in 1:n) {\n",
    "    minutes[i] <- rexp(1, rate)\n",
    "}\n",
    "\n",
    "## estimate probability that the next scoop is ready within 5 minutes\n",
    "sum(minutes <= 5)/n"
   ]
  }
 ],
 "metadata": {
  "kernelspec": {
   "display_name": "R",
   "language": "R",
   "name": "ir"
  },
  "language_info": {
   "codemirror_mode": "r",
   "file_extension": ".r",
   "mimetype": "text/x-r-source",
   "name": "R",
   "pygments_lexer": "r",
   "version": "4.0.2"
  }
 },
 "nbformat": 4,
 "nbformat_minor": 4
}
