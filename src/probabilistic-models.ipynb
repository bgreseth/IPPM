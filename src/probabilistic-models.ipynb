{
 "cells": [
  {
   "cell_type": "markdown",
   "metadata": {},
   "source": [
    "# Probabilistic Models"
   ]
  },
  {
   "cell_type": "markdown",
   "metadata": {},
   "source": [
    "### Exercise: Stocking a vending machine\n",
    "We simulate 1000 weeks worth of demand for beverages by drawing from the Poisson distribution and storing the result in a vector of length 1000. Notice that on line 4 we create the vector that will hold weekly demand values. In R, you cannot index into a vector unless the vector already exists."
   ]
  },
  {
   "cell_type": "code",
   "execution_count": 8,
   "metadata": {},
   "outputs": [],
   "source": [
    "## simulate 1000 weeks of demand from the vending machine\n",
    "\n",
    "n <- 1000            # number of replications\n",
    "demand <- numeric(n) # create a vector to hold the weekly demand\n",
    "\n",
    "for (i in 1:n) {\n",
    "    demand[i] <- rpois(1, 168)\n",
    "}"
   ]
  },
  {
   "cell_type": "markdown",
   "metadata": {},
   "source": [
    "We can estimate the probability of a stock-out by summing a vector of TRUE/FALSE values and then divide by $n$. Here, we are using the fact that TRUE equates to one and FALSE equates to zero."
   ]
  },
  {
   "cell_type": "code",
   "execution_count": 9,
   "metadata": {},
   "outputs": [
    {
     "data": {
      "text/html": [
       "0.191"
      ],
      "text/latex": [
       "0.191"
      ],
      "text/markdown": [
       "0.191"
      ],
      "text/plain": [
       "[1] 0.191"
      ]
     },
     "metadata": {},
     "output_type": "display_data"
    }
   ],
   "source": [
    "## estimated probability of a stock-out\n",
    "sum(demand >= 180) / n"
   ]
  },
  {
   "cell_type": "markdown",
   "metadata": {},
   "source": [
    "To estimate the average number of beverages remaining at the end of a week, we want to subtract average sales from 180, but we cannot sell more that 180 beverages. One of handling this is to simply truncate demand at 180. In general, putting some though into naming variables will make your code easier to understand."
   ]
  },
  {
   "cell_type": "code",
   "execution_count": 15,
   "metadata": {},
   "outputs": [
    {
     "data": {
      "text/html": [
       "11.451"
      ],
      "text/latex": [
       "11.451"
      ],
      "text/markdown": [
       "11.451"
      ],
      "text/plain": [
       "[1] 11.451"
      ]
     },
     "metadata": {},
     "output_type": "display_data"
    }
   ],
   "source": [
    "## estimate of number of beverages remaining at end of week\n",
    "sales <- ifelse(sales > 180, 180, demand)\n",
    "180 - mean(sales)"
   ]
  },
  {
   "cell_type": "code",
   "execution_count": 11,
   "metadata": {},
   "outputs": [
    {
     "data": {
      "text/html": [
       "0.937"
      ],
      "text/latex": [
       "0.937"
      ],
      "text/markdown": [
       "0.937"
      ],
      "text/plain": [
       "[1] 0.937"
      ]
     },
     "metadata": {},
     "output_type": "display_data"
    }
   ],
   "source": [
    "## estimate of probability that 150 or more beverages will be sold\n",
    "sum(demand >= 150) / n"
   ]
  }
 ],
 "metadata": {
  "kernelspec": {
   "display_name": "R",
   "language": "R",
   "name": "ir"
  },
  "language_info": {
   "codemirror_mode": "r",
   "file_extension": ".r",
   "mimetype": "text/x-r-source",
   "name": "R",
   "pygments_lexer": "r",
   "version": "3.6.3"
  }
 },
 "nbformat": 4,
 "nbformat_minor": 4
}
