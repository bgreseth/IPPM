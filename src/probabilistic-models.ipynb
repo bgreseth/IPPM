{
 "cells": [
  {
   "cell_type": "markdown",
   "metadata": {},
   "source": [
    "# Probabilistic Models"
   ]
  },
  {
   "cell_type": "markdown",
   "metadata": {},
   "source": [
    "### Exercise: Stocking a vending machine\n",
    "We simulate 1000 weeks worth of demand for beverages by drawing from the Poisson distribution and storing the result in a vector of length 1000. Notice that on line 4 we create the vector that will hold weekly demand values. In R, you cannot index into a vector unless the vector already exists."
   ]
  },
  {
   "cell_type": "code",
   "execution_count": 8,
   "metadata": {},
   "outputs": [],
   "source": [
    "## simulate 1000 weeks of demand from the vending machine\n",
    "\n",
    "n <- 1000            # number of replications\n",
    "demand <- numeric(n) # create a vector to hold the weekly demand\n",
    "\n",
    "for (i in 1:n) {\n",
    "    demand[i] <- rpois(1, 168)\n",
    "}"
   ]
  },
  {
   "cell_type": "markdown",
   "metadata": {},
   "source": [
    "We can estimate the probability of a stock-out by summing a vector of TRUE/FALSE values and then dividing by $n$. Here, we are using the fact that TRUE equates to one and FALSE equates to zero."
   ]
  },
  {
   "cell_type": "code",
   "execution_count": 9,
   "metadata": {},
   "outputs": [
    {
     "data": {
      "text/html": [
       "0.191"
      ],
      "text/latex": [
       "0.191"
      ],
      "text/markdown": [
       "0.191"
      ],
      "text/plain": [
       "[1] 0.191"
      ]
     },
     "metadata": {},
     "output_type": "display_data"
    }
   ],
   "source": [
    "## estimated probability of a stock-out\n",
    "sum(demand >= 180) / n"
   ]
  },
  {
   "cell_type": "markdown",
   "metadata": {},
   "source": [
    "To estimate the average number of beverages remaining at the end of a week, we want to subtract average sales from 180, but we cannot sell more that 180 beverages. One of handling this is to simply truncate demand at 180. In general, putting some thought into naming variables will make your code easier to understand."
   ]
  },
  {
   "cell_type": "code",
   "execution_count": 15,
   "metadata": {},
   "outputs": [
    {
     "data": {
      "text/html": [
       "11.451"
      ],
      "text/latex": [
       "11.451"
      ],
      "text/markdown": [
       "11.451"
      ],
      "text/plain": [
       "[1] 11.451"
      ]
     },
     "metadata": {},
     "output_type": "display_data"
    }
   ],
   "source": [
    "## estimate of number of beverages remaining at end of week\n",
    "sales <- ifelse(sales > 180, 180, demand)\n",
    "180 - mean(sales)"
   ]
  },
  {
   "cell_type": "code",
   "execution_count": 11,
   "metadata": {},
   "outputs": [
    {
     "data": {
      "text/html": [
       "0.937"
      ],
      "text/latex": [
       "0.937"
      ],
      "text/markdown": [
       "0.937"
      ],
      "text/plain": [
       "[1] 0.937"
      ]
     },
     "metadata": {},
     "output_type": "display_data"
    }
   ],
   "source": [
    "## estimate of probability that 150 or more beverages will be sold\n",
    "sum(demand >= 150) / n"
   ]
  },
  {
   "cell_type": "markdown",
   "metadata": {},
   "source": [
    "### Exercise: Car dealership"
   ]
  },
  {
   "cell_type": "markdown",
   "metadata": {},
   "source": [
    "Here we obtain estimates of the exact probabilities for the car dealership problem. Rather than writing a loop, another option is to make 1000 draws from the Poisson(5) distribution and store them directly into a vector."
   ]
  },
  {
   "cell_type": "code",
   "execution_count": 8,
   "metadata": {},
   "outputs": [
    {
     "data": {
      "text/html": [
       "0.038"
      ],
      "text/latex": [
       "0.038"
      ],
      "text/markdown": [
       "0.038"
      ],
      "text/plain": [
       "[1] 0.038"
      ]
     },
     "metadata": {},
     "output_type": "display_data"
    }
   ],
   "source": [
    "n <- 1000\n",
    "numdents <- rpois(n, 5) # 1000 draws from the poisson(5) distribution\n",
    "sum(numdents <= 1)/n    # estimate of probability that a car has <= 1 dent"
   ]
  },
  {
   "cell_type": "code",
   "execution_count": 9,
   "metadata": {},
   "outputs": [
    {
     "data": {
      "text/html": [
       "11.16"
      ],
      "text/latex": [
       "11.16"
      ],
      "text/markdown": [
       "11.16"
      ],
      "text/plain": [
       "[1] 11.16"
      ]
     },
     "metadata": {},
     "output_type": "display_data"
    }
   ],
   "source": [
    "0.30 * sum(numdents > 5)/n * 100 # estimated number of cars having > 5 dents"
   ]
  },
  {
   "cell_type": "markdown",
   "metadata": {},
   "source": [
    "### Exercise: A mining operation"
   ]
  },
  {
   "cell_type": "markdown",
   "metadata": {},
   "source": [
    "We perform 1000 replications of the number of scoops in one hour using the rpois() function, and store the values in a vector of length 1000. To estimate the probability that the time between consecutive trips is greater than one hour, we sum a vector of TRUE/FALSE values, where TRUE equates to one and FALSE equates to zero. Dividing by $n$ gives the propoertion of simulated scoop values that are strictly less than 10."
   ]
  },
  {
   "cell_type": "code",
   "execution_count": 11,
   "metadata": {},
   "outputs": [
    {
     "data": {
      "text/html": [
       "0.833"
      ],
      "text/latex": [
       "0.833"
      ],
      "text/markdown": [
       "0.833"
      ],
      "text/plain": [
       "[1] 0.833"
      ]
     },
     "metadata": {},
     "output_type": "display_data"
    }
   ],
   "source": [
    "n <- 1000\n",
    "numscoops <- rpois(n,7)  # 1000 draws from poisson(7) distribution\n",
    "\n",
    "## estimated probability that the time required to load truck is >= 1 hour\n",
    "sum(numscoops < 10)/n"
   ]
  },
  {
   "cell_type": "markdown",
   "metadata": {},
   "source": [
    "We make 1000 replications of the time time between scoops (in muntes)by drawing from the Exponential distribution, using the rexp() function and a rate of 7/60 scoops per minute. To estimate the probability that the next scoop is ready within 5 minutes, we sum a vector of TRUE/FALSE values, where TRUE equates to one and FALSE equates to zero, and then divide by $n$. This gives the proportion of simulated times that are less than or equal to 5 minutes."
   ]
  },
  {
   "cell_type": "code",
   "execution_count": 12,
   "metadata": {},
   "outputs": [
    {
     "data": {
      "text/html": [
       "0.446"
      ],
      "text/latex": [
       "0.446"
      ],
      "text/markdown": [
       "0.446"
      ],
      "text/plain": [
       "[1] 0.446"
      ]
     },
     "metadata": {},
     "output_type": "display_data"
    }
   ],
   "source": [
    "## simulate time betwwen scoops 1000 times\n",
    "n <- 1000\n",
    "rate <- 7/60 # scoops per minute\n",
    "minutes <- rexp(n, rate)\n",
    "\n",
    "## estimated probability that the next scoop is ready within 5 minutes\n",
    "sum(minutes <= 5)/n"
   ]
  },
  {
   "cell_type": "markdown",
   "metadata": {},
   "source": [
    "### Exercise: Time to failure"
   ]
  },
  {
   "cell_type": "markdown",
   "metadata": {},
   "source": [
    "We use the rlnorm() function to simulate 1000 failure times and store the values in a vector. The estimated mean time to failure is the sample mean. To estimate the probability that the part lasts longer than 7 days, we sum a vector of TRUE/FALSE values, where TRUE equates to one and FALSE equates to zero, and then divide by $n$. This gives the proportion of simulated failure times that are greater than 7 years."
   ]
  },
  {
   "cell_type": "code",
   "execution_count": 14,
   "metadata": {},
   "outputs": [
    {
     "data": {
      "text/html": [
       "5.10551660802627"
      ],
      "text/latex": [
       "5.10551660802627"
      ],
      "text/markdown": [
       "5.10551660802627"
      ],
      "text/plain": [
       "[1] 5.105517"
      ]
     },
     "metadata": {},
     "output_type": "display_data"
    },
    {
     "data": {
      "text/html": [
       "0.083"
      ],
      "text/latex": [
       "0.083"
      ],
      "text/markdown": [
       "0.083"
      ],
      "text/plain": [
       "[1] 0.083"
      ]
     },
     "metadata": {},
     "output_type": "display_data"
    }
   ],
   "source": [
    "n <- 1000\n",
    "ftime <- rlnorm(n, 1.6, 0.25)  # n draws from lognormal distribution\n",
    "\n",
    "## estimated mean failure time\n",
    "mean(ftime)\n",
    "\n",
    "## estimated probability that part lasts longer than 7 years\n",
    "sum(ftime > 7)/n"
   ]
  }
 ],
 "metadata": {
  "kernelspec": {
   "display_name": "R",
   "language": "R",
   "name": "ir"
  },
  "language_info": {
   "codemirror_mode": "r",
   "file_extension": ".r",
   "mimetype": "text/x-r-source",
   "name": "R",
   "pygments_lexer": "r",
   "version": "3.6.3"
  }
 },
 "nbformat": 4,
 "nbformat_minor": 4
}
