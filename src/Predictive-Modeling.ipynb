{
 "cells": [
  {
   "cell_type": "markdown",
   "metadata": {},
   "source": [
    "# Solutions to Exercises in Predictive Modeling"
   ]
  },
  {
   "cell_type": "markdown",
   "metadata": {},
   "source": [
    "### Exercise: Linear regression with a single predictor variable"
   ]
  },
  {
   "cell_type": "markdown",
   "metadata": {},
   "source": [
    "### Part a)"
   ]
  },
  {
   "cell_type": "code",
   "execution_count": null,
   "metadata": {},
   "outputs": [],
   "source": [
    "hist(faithful$eruptions)\n",
    "hist(faithful$waiting)"
   ]
  },
  {
   "cell_type": "markdown",
   "metadata": {},
   "source": [
    "### Part b)"
   ]
  },
  {
   "cell_type": "code",
   "execution_count": null,
   "metadata": {},
   "outputs": [],
   "source": [
    "with(faithful, plot(eruptions, waiting))"
   ]
  },
  {
   "cell_type": "markdown",
   "metadata": {},
   "source": [
    "### Part c)\n",
    "It appears that there are two types of eruptions, those of shorter\n",
    "  duration and those of longer duration. Eruptions of short duration are followed\n",
    "  by short waiting times until the next eruption. Eruptions of long duration\n",
    "  are followed by long waiting times."
   ]
  },
  {
   "cell_type": "markdown",
   "metadata": {},
   "source": [
    "### Part d)"
   ]
  },
  {
   "cell_type": "code",
   "execution_count": null,
   "metadata": {},
   "outputs": [],
   "source": [
    "fm <- lm(waiting ~ eruptions, data=faithful)\n",
    "summary(fm)"
   ]
  },
  {
   "cell_type": "markdown",
   "metadata": {},
   "source": [
    "  Part i) The intercept $\\beta_0 = 33.47$ represents the average\n",
    "  waiting time (until the next eruption) just after observing an\n",
    "  eruption of zero minutes in duration. So, it's not really all that\n",
    "  meaningful.\n",
    "\n",
    "  Part ii) The coefficient on duration $\\beta_1 = 10.7$ represents\n",
    "  the average effect on waiting time for a one--minute increase in\n",
    "  duration. In other words, for every minute of duration of an eruption,\n",
    "  you will have to wait an additional 10.7 minutes until the next eruption\n",
    "  (or long eruptions are followed by long waiting times).\n",
    "\n",
    "  Part iii) The predicted waiting time is\n",
    "  \n",
    "  $ \\beta_0 + \\beta_14 = 33.47 + 10.73 \\times 4 = 76.4~\\text{minutes} $ \n",
    "  \n",
    "  Regarding the uncertainty in the\n",
    "  prediction, you can either 1) look at the scatter plot right around\n",
    "  the duration value of 4 minutes and see that the range is about 25\n",
    "  minutes, or 2) look at the residual standard error from the summary\n",
    "  of the fitted model. It shows that $\\sigma = 5.9$. We know that the\n",
    "  observations should be within about 3 standard errors of the mean,\n",
    "  the range would be $\\pm 5.9\\times 3 = \\pm16.8$, or a range of about 32. So a prediction between about 20 and 35 minutes is reasonable. The idea of this exercise is that\n",
    "  a prediction represents a point estimate and that there is\n",
    "  uncertainty in that estimate.\n"
   ]
  },
  {
   "cell_type": "markdown",
   "metadata": {},
   "source": [
    "### Exercise: Using multiple linear regression to summarize a dataset"
   ]
  },
  {
   "cell_type": "code",
   "execution_count": null,
   "metadata": {},
   "outputs": [],
   "source": [
    "fm <- lm(mpg ~ cyl + hp + wt, data = mtcars)\n",
    "summary(fm)"
   ]
  },
  {
   "cell_type": "markdown",
   "metadata": {},
   "source": [
    "### Part a)\n",
    "$\\beta_3 \\approx -3.17$ means that for every 1000 lb increase in weight of the car, its miles per gallon decreases by approximately 3.17."
   ]
  },
  {
   "cell_type": "markdown",
   "metadata": {},
   "source": [
    "### Part b)\n",
    "You would want to decrease the weight, number of cylinders and horsepower. All three have negative coefficients in the model,  so as they increase, miles per gallon decreases."
   ]
  },
  {
   "cell_type": "markdown",
   "metadata": {},
   "source": [
    "### Part c)"
   ]
  },
  {
   "cell_type": "code",
   "execution_count": null,
   "metadata": {},
   "outputs": [],
   "source": [
    "beta0 <- coef(fm)[1] # intercept\n",
    "beta1 <- coef(fm)[2] # cyl\n",
    "beta2 <- coef(fm)[3] # hp\n",
    "beta3 <- coef(fm)[4] # wt\n",
    "\n",
    "avg_cyl <- mean(mtcars$cyl)\n",
    "avg_hp <- mean(mtcars$hp)\n",
    "\n",
    "\n",
    "plot(mpg ~ wt, data=mtcars)\n",
    "abline(beta0 + beta1*avg_cyl + beta2*avg_hp, beta3)"
   ]
  },
  {
   "cell_type": "markdown",
   "metadata": {},
   "source": [
    "### Part d)"
   ]
  },
  {
   "cell_type": "code",
   "execution_count": null,
   "metadata": {},
   "outputs": [],
   "source": [
    "mtcars$pred <- fitted(fm)\n",
    "plot(mpg ~ pred, data=mtcars, xlab=\"Predicted mpg\", ylab=\"Actual mpg\")"
   ]
  },
  {
   "cell_type": "markdown",
   "metadata": {},
   "source": [
    "### Part e)"
   ]
  },
  {
   "cell_type": "markdown",
   "metadata": {},
   "source": [
    "\\begin{align*}\n",
    "     \\hat{\\sigma}_{\\epsilon} &= \\sqrt{ \\frac{\\sum_{i=1}^n \\left(y_i - \\hat{y_i}\\right)^2}{n-k}} \\\\\n",
    "     \\hat{\\sigma}_{\\epsilon}&= \\sqrt{ \\frac{176.56}{32-4}} \\\\\n",
    "     \\hat{\\sigma}_{\\epsilon}&= 2.511 \n",
    "     \\end{align*}\n",
    "\n",
    "\n"
   ]
  },
  {
   "cell_type": "markdown",
   "metadata": {},
   "source": [
    "### Part f) \n",
    "Yes, the $R^2$ value of 0.8431 and the residual standard error of 2.512 indicate that the linear model does an effective job at representing the data."
   ]
  },
  {
   "cell_type": "markdown",
   "metadata": {},
   "source": [
    "### Exercise: Linear regression with numeric and categorical predictors."
   ]
  },
  {
   "cell_type": "code",
   "execution_count": 2,
   "metadata": {},
   "outputs": [
    {
     "data": {
      "image/png": "[encoded data removed]",
      "text/plain": [
       "plot without title"
      ]
     },
     "metadata": {
      "image/png": {
       "height": 420,
       "width": 420
      },
      "text/plain": {
       "height": 420,
       "width": 420
      }
     },
     "output_type": "display_data"
    }
   ],
   "source": [
    "Sales <- read.csv(\"../data/sales.csv\")\n",
    "Sales$season <- factor(Sales$season, levels=c(0,1),\n",
    "                   labels=c(\"winter\",\"summer\"))\n",
    "\n",
    "## put the data in long format for ggplot2\n",
    "price <- with(Sales, c(company.price, competitor.price))\n",
    "sales <- with(Sales, rep(sales, 2))\n",
    "seller <- factor(rep(c(\"company\",\"competitor\"), each=10))\n",
    "season <- with(Sales, rep(season, 2))\n",
    "Sales2 <- data.frame(price=price, sales=sales, seller=seller, season=season)\n",
    "\n",
    "ggplot(Sales2) +\n",
    "    geom_point(aes(x=price, y=sales, shape=seller, color=season), size=3) +\n",
    "    labs(y=\"sales in 1000s of units\")"
   ]
  },
  {
   "cell_type": "code",
   "execution_count": null,
   "metadata": {},
   "outputs": [],
   "source": [
    "fm <- lm(sales ~ company.price + competitor.price + season, data=Sales)\n",
    "summary(fm)\n",
    "coef(fm)"
   ]
  },
  {
   "cell_type": "markdown",
   "metadata": {},
   "source": [
    "\n",
    "$\\beta_0$ is the average company sales at a company price of zero dollars\n",
    "and a competitor price of zero dollars for the winter season.\n",
    "\n",
    "$\\beta_1$ is the effect on sales of a one dollar increase in the company\n",
    "price, holding competitor price and season constant. So, for every one dollar\n",
    "increase in company price, sales decrease by about 2,927 units.\n",
    "\n",
    "$\\beta_2$ is the effect on sales of a one dollar increase in competitor\n",
    "price. For each one dollar increase in competitor price, sales increase\n",
    "by about 208 units, holding company price and season constant.\n",
    "\n",
    "$\\beta_3$ is the effect on sales of going from the winter season\n",
    "to the summer season, holding prices constant. On average, the company\n",
    "sells about 2039 less units during summer.\n",
    "\\end{itemize}\n",
    "\n",
    "Competitor price should not be included in the model because\n",
    "the $p$-value is large, meaning that competitor price has little or no\n",
    "effect on company sales.\n",
    "\n",
    "If both companies charge \\$11 during the winter season, expected sales are\n",
    "\n",
    "$\\beta_0 + \\beta_111 + \\beta_211 \\approx 68$\n",
    "\n",
    "or about 68,000 units."
   ]
  }
 ],
 "metadata": {
  "kernelspec": {
   "display_name": "R",
   "language": "R",
   "name": "ir"
  },
  "language_info": {
   "codemirror_mode": "r",
   "file_extension": ".r",
   "mimetype": "text/x-r-source",
   "name": "R",
   "pygments_lexer": "r",
   "version": "3.6.3"
  }
 },
 "nbformat": 4,
 "nbformat_minor": 2
}
