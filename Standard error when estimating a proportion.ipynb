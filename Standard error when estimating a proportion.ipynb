{
 "cells": [
  {
   "cell_type": "markdown",
   "metadata": {},
   "source": [
    "### Exercise: Standard error when estimating a proportion\n",
    "Let $\\hat{p}$ be the estimate of the true overall proportion of\n",
    "  people who prefer online classes. An unbiased point estimate for $p$\n",
    "  is\n",
    "  $$\\hat{p} = \\frac{424}{1200} = 0.3533$$\n",
    "  The standard error of $\\hat{p}$ is\n",
    "$$"
    "  \\begin{align*}\n",
    "  s.e(\\hat{p}) &= \\sqrt{\\frac{\\hat{p}(1-\\hat{p})}{n}} \\\\\n",
    "  &= \\sqrt{\\frac{0.3533(1-0.3533)}{1200}} \\\\\n",
    "  &= 0.0138\n",
    "  \\end{align*}"
    "$$"
   ]
  }
 ],
 "metadata": {
  "kernelspec": {
   "display_name": "R",
   "language": "R",
   "name": "ir"
  },
  "language_info": {
   "codemirror_mode": "r",
   "file_extension": ".r",
   "mimetype": "text/x-r-source",
   "name": "R",
   "pygments_lexer": "r",
   "version": "3.6.1"
  }
 },
 "nbformat": 4,
 "nbformat_minor": 4
}
